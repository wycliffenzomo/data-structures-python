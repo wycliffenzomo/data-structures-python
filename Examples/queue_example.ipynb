{
 "cells": [
  {
   "cell_type": "code",
   "execution_count": 2,
   "metadata": {
    "collapsed": true
   },
   "outputs": [],
   "source": [
    "import sys,os\n",
    "sys.path.append(os.path.dirname(\"../\"))"
   ]
  },
  {
   "cell_type": "code",
   "execution_count": 3,
   "metadata": {},
   "outputs": [
    {
     "name": "stdout",
     "output_type": "stream",
     "text": [
      "[1, 2, 3]\n",
      "1\n",
      "2\n",
      "3\n",
      "False\n",
      "[]\n"
     ]
    }
   ],
   "source": [
    "from Data_structures.queue import Queue\n",
    "my_queue = Queue(3)\n",
    "my_queue.enqueue(1)\n",
    "my_queue.enqueue(2)\n",
    "my_queue.enqueue(3)\n",
    "my_queue.enqueue(2)\n",
    "my_queue.enqueue(4)\n",
    "my_queue.enqueue(5)\n",
    "my_queue.enqueue(6)\n",
    "my_queue.display_queue()\n",
    "print(my_queue.dequeue())\n",
    "print(my_queue.peek())\n",
    "print(my_queue.rear())\n",
    "print(my_queue.is_full())\n",
    "(my_queue.is_empty())\n",
    "my_queue.dequeue_asc()\n",
    "my_queue.dequeue_asc()\n",
    "my_queue.display_queue()"
   ]
  }
 ],
 "metadata": {
  "kernelspec": {
   "display_name": "Python 3",
   "language": "python",
   "name": "python3"
  },
  "language_info": {
   "codemirror_mode": {
    "name": "ipython",
    "version": 3
   },
   "file_extension": ".py",
   "mimetype": "text/x-python",
   "name": "python",
   "nbconvert_exporter": "python",
   "pygments_lexer": "ipython3",
   "version": "3.6.1"
  }
 },
 "nbformat": 4,
 "nbformat_minor": 5
}
