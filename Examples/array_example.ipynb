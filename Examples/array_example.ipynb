{
 "cells": [
  {
   "cell_type": "code",
   "execution_count": 4,
   "metadata": {
    "collapsed": true
   },
   "outputs": [],
   "source": [
    "import sys,os\n",
    "sys.path.append(os.path.dirname(\"../\"))"
   ]
  },
  {
   "cell_type": "code",
   "execution_count": 5,
   "metadata": {},
   "outputs": [
    {
     "name": "stdout",
     "output_type": "stream",
     "text": [
      "---- Array Test Example ----\n",
      "Array contents: [10, 15, 20, 25, 30]\n",
      "Is full? True\n",
      "Access index 2: 20\n",
      "After update at index 2:\n",
      "Array contents: [10, 15, 99, 25, 30]\n",
      "Search for 99: 2\n",
      "Search for 100: -1\n",
      "After deletions:\n",
      "Array contents: [10, 99, 25]\n",
      "Is empty? False\n",
      "After clearing array:\n",
      "Array contents: []\n",
      "Is empty now? True\n",
      "Array contents: [50]\n"
     ]
    }
   ],
   "source": [
    "from Data_structures.array import Array\n",
    "print(\"---- Array Test Example ----\")\n",
    "arr = Array(5)  \n",
    "\n",
    "# Insertion Tests\n",
    "arr.insert(0, 10) \n",
    "arr.insert(1, 20)  \n",
    "arr.insert(1, 15)  \n",
    "arr.insert(3, 25)\n",
    "arr.insert(4, 30)\n",
    "arr.display()      \n",
    "\n",
    "print(\"Is full?\", arr.is_full())  \n",
    "\n",
    "print(\"Access index 2:\", arr.access(2))\n",
    "\n",
    "# Update Test\n",
    "arr.update(2, 99)\n",
    "print(\"After update at index 2:\")\n",
    "arr.display() \n",
    "\n",
    "# Search Test\n",
    "print(\"Search for 99:\", arr.search(99))  \n",
    "print(\"Search for 100:\", arr.search(100))  \n",
    "\n",
    "# Deletion Tests\n",
    "arr.delete(1)  \n",
    "arr.delete(3)  \n",
    "print(\"After deletions:\")\n",
    "arr.display() \n",
    "\n",
    "# Test is_empty\n",
    "print(\"Is empty?\", arr.is_empty()) \n",
    "\n",
    "# Edge Case: Delete from empty (after clearing)\n",
    "arr.delete(0)\n",
    "arr.delete(0)\n",
    "arr.delete(0)\n",
    "print(\"After clearing array:\")\n",
    "arr.display()\n",
    "print(\"Is empty now?\", arr.is_empty())  \n",
    "\n",
    "# Try inserting after clearing\n",
    "arr.insert(0, 50)\n",
    "arr.display() "
   ]
  },
  {
   "cell_type": "code",
   "execution_count": null,
   "metadata": {
    "collapsed": true
   },
   "outputs": [],
   "source": []
  }
 ],
 "metadata": {
  "kernelspec": {
   "display_name": "Python 3",
   "language": "python",
   "name": "python3"
  },
  "language_info": {
   "codemirror_mode": {
    "name": "ipython",
    "version": 3
   },
   "file_extension": ".py",
   "mimetype": "text/x-python",
   "name": "python",
   "nbconvert_exporter": "python",
   "pygments_lexer": "ipython3",
   "version": "3.6.1"
  }
 },
 "nbformat": 4,
 "nbformat_minor": 5
}
