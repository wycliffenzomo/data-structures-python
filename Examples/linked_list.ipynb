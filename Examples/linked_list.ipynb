{
 "cells": [
  {
   "cell_type": "code",
   "execution_count": 1,
   "metadata": {
    "collapsed": true
   },
   "outputs": [],
   "source": [
    "import sys,os\n",
    "sys.path.append(os.path.dirname(\"../\"))"
   ]
  },
  {
   "cell_type": "code",
   "execution_count": 2,
   "metadata": {},
   "outputs": [
    {
     "name": "stdout",
     "output_type": "stream",
     "text": [
      "LinkedList: [1, 3, 4]\n",
      "LinkedList: [1, 3, 4]\n",
      "Search for 3: True\n",
      "Length: 3\n",
      "Access index 1: 3\n",
      "LinkedList: [1, 10, 4]\n",
      "LinkedList: [4, 10, 1]\n",
      "LinkedList: [1, 4, 10]\n"
     ]
    }
   ],
   "source": [
    "from Data_structures.linked_list import LinkedList\n",
    "ll = LinkedList()\n",
    "ll.insertAtEnd(3)\n",
    "ll.insertAtBeginning(1)\n",
    "ll.insertAfter(2, 0)\n",
    "ll.insertAtEnd(4)\n",
    "ll.display()\n",
    "ll.deleteItem(2)\n",
    "ll.display()\n",
    "print(\"Search for 3:\", ll.search(3))\n",
    "print(\"Length:\", ll.get_length())\n",
    "print(\"Access index 1:\", ll.access(1))\n",
    "ll.update(1, 10)\n",
    "ll.display()\n",
    "ll.reverse()\n",
    "ll.display()\n",
    "ll.sort()\n",
    "ll.display()"
   ]
  },
  {
   "cell_type": "code",
   "execution_count": null,
   "metadata": {
    "collapsed": true
   },
   "outputs": [],
   "source": []
  }
 ],
 "metadata": {
  "kernelspec": {
   "display_name": "Python 3",
   "language": "python",
   "name": "python3"
  },
  "language_info": {
   "codemirror_mode": {
    "name": "ipython",
    "version": 3
   },
   "file_extension": ".py",
   "mimetype": "text/x-python",
   "name": "python",
   "nbconvert_exporter": "python",
   "pygments_lexer": "ipython3",
   "version": "3.6.1"
  }
 },
 "nbformat": 4,
 "nbformat_minor": 5
}
