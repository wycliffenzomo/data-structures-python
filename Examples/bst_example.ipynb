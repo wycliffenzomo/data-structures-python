{
 "cells": [
  {
   "cell_type": "code",
   "execution_count": 2,
   "metadata": {
    "collapsed": true
   },
   "outputs": [],
   "source": [
    "import sys,os\n",
    "sys.path.append(os.path.dirname(\"../\"))"
   ]
  },
  {
   "cell_type": "code",
   "execution_count": 4,
   "metadata": {},
   "outputs": [
    {
     "name": "stdout",
     "output_type": "stream",
     "text": [
      "Inorder Traversal: [2, 3, 4, 5, 6, 7, 8]\n",
      "Preorder Traversal: [5, 3, 2, 4, 7, 6, 8]\n",
      "Postorder Traversal: [2, 4, 3, 6, 8, 7, 5]\n",
      "Search for 4: True\n",
      "Search for 10: True\n",
      "Inorder after deleting 2: [3, 4, 5, 6, 7, 8]\n",
      "Inorder after deleting 3: [4, 5, 6, 7, 8]\n",
      "Inorder after deleting 7: [4, 5, 6, 8]\n",
      "Min Value: 4\n",
      "Max Value: 8\n",
      "Height of the tree: 2\n",
      "Depth of 4: 1\n",
      "Is tree balanced? True\n"
     ]
    }
   ],
   "source": [
    "from Data_structures.tree import BinarySearchTree\n",
    "bst = BinarySearchTree()\n",
    "\n",
    "# Test Insertion\n",
    "bst.insert(5)\n",
    "bst.insert(3)\n",
    "bst.insert(7)\n",
    "bst.insert(2)\n",
    "bst.insert(4)\n",
    "bst.insert(6)\n",
    "bst.insert(8)\n",
    "\n",
    "# Test Inorder Traversal\n",
    "print(\"Inorder Traversal:\", bst.inorder_traversal())  \n",
    "\n",
    "# Test Preorder Traversal\n",
    "print(\"Preorder Traversal:\", bst.preorder_traversal())  \n",
    "\n",
    "# Test Postorder Traversal\n",
    "print(\"Postorder Traversal:\", bst.postorder_traversal())  \n",
    "\n",
    "# Test Search for existing and non-existing values\n",
    "print(\"Search for 4:\", bst.search(4) is not None)  \n",
    "print(\"Search for 10:\", bst.search(10) is None)  \n",
    "\n",
    "# Test Deletion of node with no children\n",
    "bst.delete(2)\n",
    "print(\"Inorder after deleting 2:\", bst.inorder_traversal())  \n",
    "\n",
    "# Test Deletion of node with one child\n",
    "bst.delete(3)\n",
    "print(\"Inorder after deleting 3:\", bst.inorder_traversal())  \n",
    "\n",
    "# Test Deletion of node with two children\n",
    "bst.delete(7)\n",
    "print(\"Inorder after deleting 7:\", bst.inorder_traversal())  \n",
    "\n",
    "# Test Min and Max Value\n",
    "print(\"Min Value:\", bst.min_value())  \n",
    "print(\"Max Value:\", bst.max_value())  \n",
    "\n",
    "# Test Tree Height\n",
    "print(\"Height of the tree:\", bst.height())  \n",
    "\n",
    "# Test Depth of a Node\n",
    "print(\"Depth of 4:\", bst.depth(4)) \n",
    "\n",
    "# Test Tree Balance\n",
    "print(\"Is tree balanced?\", bst.is_balanced())  "
   ]
  }
 ],
 "metadata": {
  "kernelspec": {
   "display_name": "Python 3",
   "language": "python",
   "name": "python3"
  },
  "language_info": {
   "codemirror_mode": {
    "name": "ipython",
    "version": 3
   },
   "file_extension": ".py",
   "mimetype": "text/x-python",
   "name": "python",
   "nbconvert_exporter": "python",
   "pygments_lexer": "ipython3",
   "version": "3.6.1"
  }
 },
 "nbformat": 4,
 "nbformat_minor": 5
}
